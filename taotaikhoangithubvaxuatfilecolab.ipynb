{
  "nbformat": 4,
  "nbformat_minor": 0,
  "metadata": {
    "colab": {
      "provenance": [],
      "collapsed_sections": [],
      "authorship_tag": "ABX9TyM4XGKbwABVHWgiVFrYWTFC",
      "include_colab_link": true
    },
    "kernelspec": {
      "name": "python3",
      "display_name": "Python 3"
    },
    "language_info": {
      "name": "python"
    }
  },
  "cells": [
    {
      "cell_type": "markdown",
      "metadata": {
        "id": "view-in-github",
        "colab_type": "text"
      },
      "source": [
        "<a href=\"https://colab.research.google.com/github/nhoanh555/baitap2/blob/main/taotaikhoangithubvaxuatfilecolab.ipynb\" target=\"_parent\"><img src=\"https://colab.research.google.com/assets/colab-badge.svg\" alt=\"Open In Colab\"/></a>"
      ]
    },
    {
      "cell_type": "markdown",
      "source": [
        "**Đây là chương trình đầu tiên**"
      ],
      "metadata": {
        "id": "UVXQkq5HHik9"
      }
    },
    {
      "cell_type": "code",
      "execution_count": null,
      "metadata": {
        "colab": {
          "base_uri": "https://localhost:8080/"
        },
        "id": "fgQq8OTeHb1Z",
        "outputId": "30b154af-d904-4377-b0e2-135f1590f559"
      },
      "outputs": [
        {
          "output_type": "stream",
          "name": "stdout",
          "text": [
            "Hello Github & Colab\n"
          ]
        }
      ],
      "source": [
        "print(\"Hello Github & Colab\")"
      ]
    }
  ]
}